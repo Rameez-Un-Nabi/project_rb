{
 "cells": [
  {
   "cell_type": "code",
   "execution_count": 22,
   "id": "dd227078-a3c9-47c1-a9ca-f7bb1f4bca67",
   "metadata": {},
   "outputs": [
    {
     "name": "stdout",
     "output_type": "stream",
     "text": [
      "Requirement already satisfied: mysql-connector-python in c:\\users\\abdiel chiu\\appdata\\local\\programs\\python\\python311\\lib\\site-packages (8.0.33)\n",
      "Requirement already satisfied: protobuf<=3.20.3,>=3.11.0 in c:\\users\\abdiel chiu\\appdata\\local\\programs\\python\\python311\\lib\\site-packages (from mysql-connector-python) (3.20.3)\n"
     ]
    }
   ],
   "source": [
    "!pip install mysql-connector-python"
   ]
  },
  {
   "cell_type": "code",
   "execution_count": 23,
   "id": "04754782-1fe5-4e90-bc37-13a5979ce1e8",
   "metadata": {},
   "outputs": [
    {
     "name": "stdout",
     "output_type": "stream",
     "text": [
      "Connection established successfully.\n",
      "Tables in the database:\n",
      "bookings\n",
      "customer_details\n",
      "menu\n",
      "menuitems\n",
      "order_delivery_status\n",
      "orders\n",
      "ordersview\n",
      "staff_information\n",
      "Connection closed.\n"
     ]
    }
   ],
   "source": [
    "import mysql.connector as connector\n",
    "\n",
    "# Create connection\n",
    "try:\n",
    "    connection = connector.connect(user = \"DBCapUser\", password = \"dbcap2024\", db = \"littlelemondb\")\n",
    "    \n",
    "    # Check if connection is successful\n",
    "    if connection.is_connected():\n",
    "        print(\"Connection established successfully.\")\n",
    "\n",
    "    # Create cursor\n",
    "    cursor = connection.cursor()\n",
    "\n",
    "    # Define the query to show all tables\n",
    "    show_tables_query = \"SHOW TABLES\"\n",
    "\n",
    "    # Execute the query\n",
    "    cursor.execute(show_tables_query)\n",
    "\n",
    "    # Fetch all rows\n",
    "    tables = cursor.fetchall()\n",
    "\n",
    "    # Print the list of tables\n",
    "    print(\"Tables in the database:\")\n",
    "    for table in tables:\n",
    "        print(table[0])\n",
    "\n",
    "except mysql.connector.Error as error:\n",
    "    print(\"Error while connecting to MySQL:\", error)\n",
    "finally:\n",
    "    # Close the cursor and connection\n",
    "    if 'cursor' in locals():\n",
    "        cursor.close()\n",
    "    if 'connection' in locals() and connection.is_connected():\n",
    "        connection.close()\n",
    "        print(\"Connection closed.\")"
   ]
  },
  {
   "cell_type": "code",
   "execution_count": 26,
   "id": "e1f18bd0-51ac-4e17-8d9b-fd49fb1a8e77",
   "metadata": {},
   "outputs": [
    {
     "name": "stdout",
     "output_type": "stream",
     "text": [
      "Connection established successfully.\n",
      "Customer Name: John Doe\n",
      "Contact Details: john.doe@example.com\n",
      "Total Cost: 31.98\n",
      "\n",
      "Customer Name: Jane Smith\n",
      "Contact Details: jane.smith@example.com\n",
      "Total Cost: 56.97\n",
      "\n",
      "Customer Name: John Doe\n",
      "Contact Details: john.doe@example.com\n",
      "Total Cost: 39.98\n",
      "\n",
      "Customer Name: Daniel Brown\n",
      "Contact Details: daniel.brown@example.com\n",
      "Total Cost: 75.96\n",
      "\n",
      "Customer Name: Michael Johnson\n",
      "Contact Details: michael.johnson@example.com\n",
      "Total Cost: 38.97\n",
      "\n",
      "Customer Name: Jane Smith\n",
      "Contact Details: jane.smith@example.com\n",
      "Total Cost: 25.98\n",
      "\n",
      "Customer Name: Sophia Lee\n",
      "Contact Details: sophia.lee@example.com\n",
      "Total Cost: 39.96\n",
      "\n",
      "Customer Name: Sophia Lee\n",
      "Contact Details: sophia.lee@example.com\n",
      "Total Cost: 29.97\n",
      "\n",
      "Customer Name: Benjamin White\n",
      "Contact Details: benjamin.white@example.com\n",
      "Total Cost: 31.98\n",
      "\n",
      "Customer Name: Ethan Smith\n",
      "Contact Details: ethan.smith@example.com\n",
      "Total Cost: 51.96\n",
      "\n",
      "Customer Name: Emma Davis\n",
      "Contact Details: emma.davis@example.com\n",
      "Total Cost: 38.97\n",
      "\n",
      "Connection closed.\n"
     ]
    }
   ],
   "source": [
    "import mysql.connector as connector\n",
    "\n",
    "# Create connection\n",
    "try:\n",
    "    connection = connector.connect(user = \"DBCapUser\", password = \"dbcap2024\", db = \"littlelemondb\")\n",
    "    \n",
    "    # Check if connection is successful\n",
    "    if connection.is_connected():\n",
    "        print(\"Connection established successfully.\")\n",
    "\n",
    "    # Create cursor\n",
    "    cursor = connection.cursor()\n",
    "\n",
    "    # Define the SQL query\n",
    "    sql_query = \"\"\"\n",
    "    SELECT cd.customer_name, cd.contact_details, o.total_cost\n",
    "    FROM customer_details cd\n",
    "    JOIN bookings b ON cd.customer_id = b.customer_id\n",
    "    JOIN orders o ON b.booking_id = o.booking_id\n",
    "    WHERE o.total_cost > 25;\n",
    "    \"\"\"\n",
    "\n",
    "    # Execute the SQL query\n",
    "    cursor.execute(sql_query)\n",
    "\n",
    "    # Fetch all rows\n",
    "    results = cursor.fetchall()\n",
    "\n",
    "    # Display the results\n",
    "    for row in results:\n",
    "        print(\"Customer Name:\", row[0])\n",
    "        print(\"Contact Details:\", row[1])\n",
    "        print(\"Total Cost:\", row[2])\n",
    "        print(\"\")\n",
    "\n",
    "except mysql.connector.Error as error:\n",
    "    print(\"Error while connecting to MySQL:\", error)\n",
    "finally:\n",
    "    # Close the cursor and connection\n",
    "    if 'cursor' in locals():\n",
    "        cursor.close()\n",
    "    if 'connection' in locals() and connection.is_connected():\n",
    "        connection.close()\n",
    "        print(\"Connection closed.\")"
   ]
  },
  {
   "cell_type": "code",
   "execution_count": null,
   "id": "4c2f395b-282c-490c-b26a-4f58ca3fec2c",
   "metadata": {},
   "outputs": [],
   "source": []
  }
 ],
 "metadata": {
  "kernelspec": {
   "display_name": "Python 3 (ipykernel)",
   "language": "python",
   "name": "python3"
  },
  "language_info": {
   "codemirror_mode": {
    "name": "ipython",
    "version": 3
   },
   "file_extension": ".py",
   "mimetype": "text/x-python",
   "name": "python",
   "nbconvert_exporter": "python",
   "pygments_lexer": "ipython3",
   "version": "3.11.3"
  }
 },
 "nbformat": 4,
 "nbformat_minor": 5
}
